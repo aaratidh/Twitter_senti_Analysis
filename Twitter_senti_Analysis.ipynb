{
 "cells": [
  {
   "cell_type": "code",
   "execution_count": 3,
   "id": "33154475",
   "metadata": {},
   "outputs": [],
   "source": [
    "import re\n",
    "import numpy as np\n",
    "import pandas as pd\n",
    "# plotting\n",
    "import seaborn as sns\n",
    "from wordcloud import WordCloud\n",
    "import matplotlib.pyplot as plt\n",
    "# nltk\n",
    "from nltk.stem import WordNetLemmatizer\n",
    "# sklearn\n",
    "from sklearn.svm import LinearSVC\n",
    "from sklearn.naive_bayes import BernoulliNB\n",
    "from sklearn.linear_model import LogisticRegression\n",
    "from sklearn.model_selection import train_test_split\n",
    "from sklearn.feature_extraction.text import TfidfVectorizer\n",
    "from sklearn.metrics import confusion_matrix, classification_report\n"
   ]
  },
  {
   "cell_type": "code",
   "execution_count": 2,
   "id": "6d3168ac",
   "metadata": {},
   "outputs": [
    {
     "name": "stdout",
     "output_type": "stream",
     "text": [
      "Collecting package metadata (current_repodata.json): ...working... done\n",
      "Note: you may need to restart the kernel to use updated packages.\n",
      "Solving environment: ...working... done\n",
      "\n",
      "## Package Plan ##\n",
      "\n",
      "  environment location: C:\\Users\\Hp\\anaconda3\n",
      "\n",
      "  added / updated specs:\n",
      "    - wordcloud\n",
      "\n",
      "\n",
      "The following packages will be downloaded:\n",
      "\n",
      "    package                    |            build\n",
      "    ---------------------------|-----------------\n",
      "    conda-4.11.0               |   py38haa244fe_0        16.9 MB  conda-forge\n",
      "    python_abi-3.8             |           2_cp38           4 KB  conda-forge\n",
      "    wordcloud-1.8.1            |   py38h294d835_2         196 KB  conda-forge\n",
      "    ------------------------------------------------------------\n",
      "                                           Total:        17.1 MB\n",
      "\n",
      "The following NEW packages will be INSTALLED:\n",
      "\n",
      "  python_abi         conda-forge/win-64::python_abi-3.8-2_cp38\n",
      "  wordcloud          conda-forge/win-64::wordcloud-1.8.1-py38h294d835_2\n",
      "\n",
      "The following packages will be UPDATED:\n",
      "\n",
      "  conda              pkgs/main::conda-4.10.3-py38haa95532_0 --> conda-forge::conda-4.11.0-py38haa244fe_0\n",
      "\n",
      "\n",
      "\n",
      "Downloading and Extracting Packages\n",
      "\n",
      "conda-4.11.0         | 16.9 MB   |            |   0% \n",
      "conda-4.11.0         | 16.9 MB   |            |   0% \n",
      "conda-4.11.0         | 16.9 MB   | 5          |   6% \n",
      "conda-4.11.0         | 16.9 MB   | 9          |   9% \n",
      "conda-4.11.0         | 16.9 MB   | #3         |  14% \n",
      "conda-4.11.0         | 16.9 MB   | #8         |  19% \n",
      "conda-4.11.0         | 16.9 MB   | ##3        |  24% \n",
      "conda-4.11.0         | 16.9 MB   | ##8        |  28% \n",
      "conda-4.11.0         | 16.9 MB   | ###3       |  33% \n",
      "conda-4.11.0         | 16.9 MB   | ###8       |  38% \n",
      "conda-4.11.0         | 16.9 MB   | ####2      |  43% \n",
      "conda-4.11.0         | 16.9 MB   | ####7      |  48% \n",
      "conda-4.11.0         | 16.9 MB   | #####2     |  53% \n",
      "conda-4.11.0         | 16.9 MB   | #####7     |  57% \n",
      "conda-4.11.0         | 16.9 MB   | ######2    |  62% \n",
      "conda-4.11.0         | 16.9 MB   | ######7    |  68% \n",
      "conda-4.11.0         | 16.9 MB   | #######2   |  72% \n",
      "conda-4.11.0         | 16.9 MB   | #######7   |  78% \n",
      "conda-4.11.0         | 16.9 MB   | ########2  |  83% \n",
      "conda-4.11.0         | 16.9 MB   | ########7  |  88% \n",
      "conda-4.11.0         | 16.9 MB   | #########2 |  93% \n",
      "conda-4.11.0         | 16.9 MB   | #########7 |  97% \n",
      "conda-4.11.0         | 16.9 MB   | ########## | 100% \n",
      "\n"
     ]
    },
    {
     "name": "stderr",
     "output_type": "stream",
     "text": [
      "\n",
      "\n",
      "==> WARNING: A newer version of conda exists. <==\n",
      "  current version: 4.10.3\n",
      "  latest version: 4.11.0\n",
      "\n",
      "Please update conda by running\n",
      "\n",
      "    $ conda update -n base -c defaults conda\n",
      "\n",
      "\n"
     ]
    },
    {
     "name": "stdout",
     "output_type": "stream",
     "text": [
      "\n",
      "python_abi-3.8       | 4 KB      |            |   0% \n",
      "python_abi-3.8       | 4 KB      | ########## | 100% \n",
      "\n",
      "wordcloud-1.8.1      | 196 KB    |            |   0% \n",
      "wordcloud-1.8.1      | 196 KB    | 8          |   8% \n",
      "wordcloud-1.8.1      | 196 KB    | ##4        |  24% \n",
      "wordcloud-1.8.1      | 196 KB    | ######5    |  65% \n",
      "wordcloud-1.8.1      | 196 KB    | ########## | 100% \n",
      "Preparing transaction: ...working... done\n",
      "Verifying transaction: ...working... done\n",
      "Executing transaction: ...working... done\n"
     ]
    }
   ],
   "source": [
    "conda install -c conda-forge wordcloud"
   ]
  },
  {
   "cell_type": "code",
   "execution_count": 8,
   "id": "96834617",
   "metadata": {},
   "outputs": [
    {
     "data": {
      "text/html": [
       "<div>\n",
       "<style scoped>\n",
       "    .dataframe tbody tr th:only-of-type {\n",
       "        vertical-align: middle;\n",
       "    }\n",
       "\n",
       "    .dataframe tbody tr th {\n",
       "        vertical-align: top;\n",
       "    }\n",
       "\n",
       "    .dataframe thead th {\n",
       "        text-align: right;\n",
       "    }\n",
       "</style>\n",
       "<table border=\"1\" class=\"dataframe\">\n",
       "  <thead>\n",
       "    <tr style=\"text-align: right;\">\n",
       "      <th></th>\n",
       "      <th>target</th>\n",
       "      <th>ids</th>\n",
       "      <th>date</th>\n",
       "      <th>flag</th>\n",
       "      <th>user</th>\n",
       "      <th>text</th>\n",
       "    </tr>\n",
       "  </thead>\n",
       "  <tbody>\n",
       "    <tr>\n",
       "      <th>148468</th>\n",
       "      <td>0</td>\n",
       "      <td>1883148112</td>\n",
       "      <td>Fri May 22 08:05:06 PDT 2009</td>\n",
       "      <td>NO_QUERY</td>\n",
       "      <td>slurredspeech</td>\n",
       "      <td>i have so much energy. i want to go for a quic...</td>\n",
       "    </tr>\n",
       "    <tr>\n",
       "      <th>1446527</th>\n",
       "      <td>4</td>\n",
       "      <td>2062515642</td>\n",
       "      <td>Sat Jun 06 23:27:32 PDT 2009</td>\n",
       "      <td>NO_QUERY</td>\n",
       "      <td>Otavolimed</td>\n",
       "      <td>@AleLovesYou http://twitpic.com/6tbxt - I def....</td>\n",
       "    </tr>\n",
       "    <tr>\n",
       "      <th>412264</th>\n",
       "      <td>0</td>\n",
       "      <td>2060307933</td>\n",
       "      <td>Sat Jun 06 18:39:43 PDT 2009</td>\n",
       "      <td>NO_QUERY</td>\n",
       "      <td>jesusfreakgeek</td>\n",
       "      <td>Epoxy stuff to fix espresso machine leak = FAI...</td>\n",
       "    </tr>\n",
       "    <tr>\n",
       "      <th>1307461</th>\n",
       "      <td>4</td>\n",
       "      <td>2012391082</td>\n",
       "      <td>Tue Jun 02 20:34:03 PDT 2009</td>\n",
       "      <td>NO_QUERY</td>\n",
       "      <td>sinfulsignorita</td>\n",
       "      <td>@SadiaJabeen the feeling is mutual</td>\n",
       "    </tr>\n",
       "    <tr>\n",
       "      <th>1124216</th>\n",
       "      <td>4</td>\n",
       "      <td>1974627513</td>\n",
       "      <td>Sat May 30 13:31:13 PDT 2009</td>\n",
       "      <td>NO_QUERY</td>\n",
       "      <td>jimmckay</td>\n",
       "      <td>@pwinn This one is a Logitech Harmony 550 remo...</td>\n",
       "    </tr>\n",
       "  </tbody>\n",
       "</table>\n",
       "</div>"
      ],
      "text/plain": [
       "         target         ids                          date      flag  \\\n",
       "148468        0  1883148112  Fri May 22 08:05:06 PDT 2009  NO_QUERY   \n",
       "1446527       4  2062515642  Sat Jun 06 23:27:32 PDT 2009  NO_QUERY   \n",
       "412264        0  2060307933  Sat Jun 06 18:39:43 PDT 2009  NO_QUERY   \n",
       "1307461       4  2012391082  Tue Jun 02 20:34:03 PDT 2009  NO_QUERY   \n",
       "1124216       4  1974627513  Sat May 30 13:31:13 PDT 2009  NO_QUERY   \n",
       "\n",
       "                    user                                               text  \n",
       "148468     slurredspeech  i have so much energy. i want to go for a quic...  \n",
       "1446527       Otavolimed  @AleLovesYou http://twitpic.com/6tbxt - I def....  \n",
       "412264    jesusfreakgeek  Epoxy stuff to fix espresso machine leak = FAI...  \n",
       "1307461  sinfulsignorita                @SadiaJabeen the feeling is mutual   \n",
       "1124216         jimmckay  @pwinn This one is a Logitech Harmony 550 remo...  "
      ]
     },
     "execution_count": 8,
     "metadata": {},
     "output_type": "execute_result"
    }
   ],
   "source": [
    "# Importing the dataset\n",
    "DATASET_COLUMNS=['target','ids','date','flag','user','text']\n",
    "DATASET_ENCODING = \"ISO-8859-1\"\n",
    "df = pd.read_csv('C://Users//Hp//Twitter_senti_Ana//traning.csv', encoding=DATASET_ENCODING, names=DATASET_COLUMNS)\n",
    "df.sample(5)"
   ]
  },
  {
   "cell_type": "code",
   "execution_count": 9,
   "id": "94269945",
   "metadata": {},
   "outputs": [
    {
     "data": {
      "text/plain": [
       "Index(['target', 'ids', 'date', 'flag', 'user', 'text'], dtype='object')"
      ]
     },
     "execution_count": 9,
     "metadata": {},
     "output_type": "execute_result"
    }
   ],
   "source": [
    "df.columns"
   ]
  },
  {
   "cell_type": "code",
   "execution_count": 11,
   "id": "3328a004",
   "metadata": {},
   "outputs": [
    {
     "name": "stdout",
     "output_type": "stream",
     "text": [
      "length of date is  1600000\n"
     ]
    }
   ],
   "source": [
    "print('length of date is ', len(df))"
   ]
  },
  {
   "cell_type": "code",
   "execution_count": 12,
   "id": "c467db8a",
   "metadata": {},
   "outputs": [
    {
     "name": "stdout",
     "output_type": "stream",
     "text": [
      "<class 'pandas.core.frame.DataFrame'>\n",
      "RangeIndex: 1600000 entries, 0 to 1599999\n",
      "Data columns (total 6 columns):\n",
      " #   Column  Non-Null Count    Dtype \n",
      "---  ------  --------------    ----- \n",
      " 0   target  1600000 non-null  int64 \n",
      " 1   ids     1600000 non-null  int64 \n",
      " 2   date    1600000 non-null  object\n",
      " 3   flag    1600000 non-null  object\n",
      " 4   user    1600000 non-null  object\n",
      " 5   text    1600000 non-null  object\n",
      "dtypes: int64(2), object(4)\n",
      "memory usage: 73.2+ MB\n"
     ]
    }
   ],
   "source": [
    "df.info()"
   ]
  },
  {
   "cell_type": "code",
   "execution_count": 14,
   "id": "0b5a03ea",
   "metadata": {},
   "outputs": [
    {
     "data": {
      "text/plain": [
       "target     int64\n",
       "ids        int64\n",
       "date      object\n",
       "flag      object\n",
       "user      object\n",
       "text      object\n",
       "dtype: object"
      ]
     },
     "execution_count": 14,
     "metadata": {},
     "output_type": "execute_result"
    }
   ],
   "source": [
    "df.dtypes"
   ]
  },
  {
   "cell_type": "code",
   "execution_count": 16,
   "id": "0146de5b",
   "metadata": {},
   "outputs": [
    {
     "data": {
      "text/plain": [
       "0"
      ]
     },
     "execution_count": 16,
     "metadata": {},
     "output_type": "execute_result"
    }
   ],
   "source": [
    "#checking for null value\n",
    "np.sum(df.isnull().any(axis=1))"
   ]
  },
  {
   "cell_type": "code",
   "execution_count": 17,
   "id": "97fe2ae1",
   "metadata": {},
   "outputs": [
    {
     "data": {
      "text/plain": [
       "Index(['target', 'ids', 'date', 'flag', 'user', 'text'], dtype='object')"
      ]
     },
     "execution_count": 17,
     "metadata": {},
     "output_type": "execute_result"
    }
   ],
   "source": [
    "df.columns\n"
   ]
  },
  {
   "cell_type": "code",
   "execution_count": 21,
   "id": "c8ecb95c",
   "metadata": {},
   "outputs": [
    {
     "data": {
      "text/plain": [
       "array([0, 4], dtype=int64)"
      ]
     },
     "execution_count": 21,
     "metadata": {},
     "output_type": "execute_result"
    }
   ],
   "source": [
    "df[\"target\"].unique()"
   ]
  },
  {
   "cell_type": "code",
   "execution_count": null,
   "id": "aa920919",
   "metadata": {},
   "outputs": [],
   "source": [
    "df[\"target\"].nuni"
   ]
  }
 ],
 "metadata": {
  "kernelspec": {
   "display_name": "Python 3",
   "language": "python",
   "name": "python3"
  },
  "language_info": {
   "codemirror_mode": {
    "name": "ipython",
    "version": 3
   },
   "file_extension": ".py",
   "mimetype": "text/x-python",
   "name": "python",
   "nbconvert_exporter": "python",
   "pygments_lexer": "ipython3",
   "version": "3.8.8"
  }
 },
 "nbformat": 4,
 "nbformat_minor": 5
}
